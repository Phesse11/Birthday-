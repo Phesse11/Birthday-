{
 "cells": [
  {
   "cell_type": "code",
   "execution_count": 3,
   "id": "c1c31842",
   "metadata": {},
   "outputs": [],
   "source": [
    "import datetime\n",
    "def main():\n",
    "    n= datetime.now() \n",
    "    print(n)\n",
    "    f = open(\"today.txt\",\"w+\") # opens tezt file April 24th\n",
    "    f.write(str(n))\n",
    "    f.close()\n",
    "    f = open(\"today.txt\",\"r\")\n",
    "    today_string = f.read()\n",
    "    datetime = datetime.strptime(today_string, \"%b %d %Y %I:%M%p\")\n",
    "    mybirthday = datetime.datetime(2001, 4, 24) # My birthday \n",
    "    print(today_string) # method prints day, birthday and string \n",
    "    print(datetime)\n",
    "    print(mybirthday)\n",
    "    f.close()"
   ]
  },
  {
   "cell_type": "code",
   "execution_count": 1,
   "id": "29d7c8e6",
   "metadata": {},
   "outputs": [
    {
     "ename": "SyntaxError",
     "evalue": "invalid syntax (zoo.py, line 1)",
     "output_type": "error",
     "traceback": [
      "Traceback \u001b[0;36m(most recent call last)\u001b[0m:\n",
      "  File \u001b[1;32m\"/Users/paa-niihesse/opt/anaconda3/lib/python3.9/site-packages/IPython/core/interactiveshell.py\"\u001b[0m, line \u001b[1;32m3457\u001b[0m, in \u001b[1;35mrun_code\u001b[0m\n    exec(code_obj, self.user_global_ns, self.user_ns)\n",
      "\u001b[0;36m  File \u001b[0;32m\"/var/folders/_y/6fg5ypsx1x98zgzfsgftbkth0000gn/T/ipykernel_84405/2004543708.py\"\u001b[0;36m, line \u001b[0;32m2\u001b[0;36m, in \u001b[0;35m<module>\u001b[0;36m\u001b[0m\n\u001b[0;31m    import zoo\u001b[0m\n",
      "\u001b[0;36m  File \u001b[0;32m\"/Users/paa-niihesse/zoo.py\"\u001b[0;36m, line \u001b[0;32m1\u001b[0m\n\u001b[0;31m    Open 9-5 daily\u001b[0m\n\u001b[0m         ^\u001b[0m\n\u001b[0;31mSyntaxError\u001b[0m\u001b[0;31m:\u001b[0m invalid syntax\n"
     ]
    }
   ],
   "source": [
    "\n",
    "import multiprocessing,time,datetime\n",
    "import zoo \n",
    "\n",
    "\n",
    "\n",
    "start = time.time()\n",
    "process1 = zoo.process1() # The methods \n",
    "process2 = zoo.process1()\n",
    "process3 = zoo.process1()\n",
    "\n",
    "print(datetime.datetime.now())\n",
    "if __name__==\"__main__\":\n",
    "    \n",
    "    \n",
    "    \n",
    "    p1 = multiprocessing.Process(target=process1)\n",
    "    p2 = multiprocessing.Process(target=process2) \n",
    "    p3 = multiprocessing.Process(target=process3)\n",
    "\n",
    "    p1.start()\n",
    "    p2.start()\n",
    "    p3.start()\n",
    "\n",
    "    p1.join()\n",
    "    p2.join()\n",
    "    p3.join()\n",
    "\n",
    "end = time.time()\n",
    "    \n",
    "print(\"It takes \" +str(end-start)+\" seconds\") # the string \n"
   ]
  },
  {
   "cell_type": "code",
   "execution_count": null,
   "id": "76d215fc",
   "metadata": {},
   "outputs": [],
   "source": []
  },
  {
   "cell_type": "code",
   "execution_count": null,
   "id": "a98e6adb",
   "metadata": {},
   "outputs": [],
   "source": []
  }
 ],
 "metadata": {
  "kernelspec": {
   "display_name": "Python 3 (ipykernel)",
   "language": "python",
   "name": "python3"
  },
  "language_info": {
   "codemirror_mode": {
    "name": "ipython",
    "version": 3
   },
   "file_extension": ".py",
   "mimetype": "text/x-python",
   "name": "python",
   "nbconvert_exporter": "python",
   "pygments_lexer": "ipython3",
   "version": "3.9.13"
  }
 },
 "nbformat": 4,
 "nbformat_minor": 5
}
